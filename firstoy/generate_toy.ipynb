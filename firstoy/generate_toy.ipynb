{
 "cells": [
  {
   "cell_type": "markdown",
   "id": "2e072c57-baf5-4519-9417-9c7b4dc9af9b",
   "metadata": {},
   "source": [
    "# A first attempt at generating some data\n",
    "\n",
    "Based on this model. Some notation\n",
    "\n",
    "M: # regions  \n",
    "N: # of bins per region  \n",
    "L: # of signals  \n",
    "\n",
    "alpha: params of dirichlet prior over reference epigenomes  \n",
    "beta: ref->sample state categorical distribution  \n",
    "p: state->signal bernoulli distribution\n",
    "r: reference state at each region/bin\n",
    "\n",
    "```\n",
    "for each region d do\n",
    "  draw ref distr pi_d ~ Dir(alpha)\n",
    "  for each genomic position i in d do\n",
    "    sample ref z_di ~ Categorical(p_d)\n",
    "    sample state s_di ~ Categorical(beta_{r_{z_{di}}})\n",
    "    for each signal j do\n",
    "      sample m_{dij} ~ Bernoulli(p_{s_{di}})\n",
    "```\n"
   ]
  },
  {
   "cell_type": "code",
   "execution_count": 67,
   "id": "e11c38e8-d037-4787-adb1-c94414666756",
   "metadata": {},
   "outputs": [],
   "source": [
    "# set some parameters\n",
    "num_regions = 12\n",
    "num_bins_per_region = 5\n",
    "num_signals = 3\n",
    "num_states = 5\n",
    "num_references = 10"
   ]
  },
  {
   "cell_type": "code",
   "execution_count": 68,
   "id": "32767953-fb13-4a80-84de-22ddce554dbb",
   "metadata": {},
   "outputs": [
    {
     "name": "stdout",
     "output_type": "stream",
     "text": [
      "alpha:\n",
      "tensor([ 1.,  2.,  3.,  4.,  5.,  6.,  7.,  8.,  9., 10.])\n",
      "beta:\n",
      "tensor([[0.7143, 0.0714, 0.0714, 0.0714, 0.0714],\n",
      "        [0.0714, 0.7143, 0.0714, 0.0714, 0.0714],\n",
      "        [0.0714, 0.0714, 0.7143, 0.0714, 0.0714],\n",
      "        [0.0714, 0.0714, 0.0714, 0.7143, 0.0714],\n",
      "        [0.0714, 0.0714, 0.0714, 0.0714, 0.7143]])\n"
     ]
    }
   ],
   "source": [
    "import pyro\n",
    "import pyro.distributions as dist\n",
    "import torch\n",
    "import numpy as np\n",
    "\n",
    "alpha = torch.from_numpy(np.arange(num_references) + 1).float()\n",
    "beta = torch.zeros((num_states, num_states))\n",
    "for i in range(num_states):\n",
    "    w = torch.ones(num_states)\n",
    "    w[i] = 10\n",
    "    beta[i,:] = w / torch.sum(w)\n",
    "\n",
    "print('alpha:')\n",
    "print(alpha)\n",
    "\n",
    "print('beta:')\n",
    "print(beta)"
   ]
  },
  {
   "cell_type": "code",
   "execution_count": 69,
   "id": "9d3612bc-4e2f-4a80-8188-1c6b96ae7bec",
   "metadata": {},
   "outputs": [
    {
     "name": "stdout",
     "output_type": "stream",
     "text": [
      "p\n",
      "tensor([[0.8333, 0.0833, 0.0833],\n",
      "        [0.0833, 0.8333, 0.0833],\n",
      "        [0.0833, 0.0833, 0.8333],\n",
      "        [0.8333, 0.0833, 0.0833],\n",
      "        [0.0833, 0.8333, 0.0833]])\n"
     ]
    }
   ],
   "source": [
    "p = torch.zeros((num_states, num_signals))\n",
    "for i in range(num_states):\n",
    "    w = torch.ones(num_signals)\n",
    "    w[i % num_signals] = 10\n",
    "    p[i,:] = w / torch.sum(w)\n",
    "\n",
    "print('p')\n",
    "print(p)"
   ]
  },
  {
   "cell_type": "code",
   "execution_count": 78,
   "id": "6c0200ef-0ef6-4503-9b8a-628d404414c6",
   "metadata": {},
   "outputs": [
    {
     "data": {
      "text/plain": [
       "torch.Size([12, 5, 10])"
      ]
     },
     "execution_count": 78,
     "metadata": {},
     "output_type": "execute_result"
    }
   ],
   "source": [
    "ref_states = torch.zeros((num_regions, num_bins_per_region, num_references))\n",
    "for i in range(num_references):\n",
    "    ref_states[:,:,i] = i % num_states\n",
    "ref_states.shape  "
   ]
  },
  {
   "cell_type": "code",
   "execution_count": 128,
   "id": "0247ca7d-bd56-4cad-a295-ff1dec0276bd",
   "metadata": {},
   "outputs": [
    {
     "name": "stdout",
     "output_type": "stream",
     "text": [
      "torch.Size([12, 5, 10, 5])\n"
     ]
    },
    {
     "data": {
      "text/plain": [
       "tensor([[1., 0., 0., 0., 0.],\n",
       "        [0., 1., 0., 0., 0.],\n",
       "        [0., 0., 1., 0., 0.],\n",
       "        [0., 0., 0., 1., 0.],\n",
       "        [0., 0., 0., 0., 1.],\n",
       "        [1., 0., 0., 0., 0.],\n",
       "        [0., 1., 0., 0., 0.],\n",
       "        [0., 0., 1., 0., 0.],\n",
       "        [0., 0., 0., 1., 0.],\n",
       "        [0., 0., 0., 0., 1.]])"
      ]
     },
     "execution_count": 128,
     "metadata": {},
     "output_type": "execute_result"
    }
   ],
   "source": [
    "ref_states_indicator = torch.zeros((num_regions, num_bins_per_region, num_references, num_states))\n",
    "for i in range(num_regions):\n",
    "    for j in range(num_bins_per_region):\n",
    "        for k in range(num_references):\n",
    "            ref_states_indicator[i, j, k, ref_states[i,j,k].long()] = 1.\n",
    "print(ref_states_indicator.shape)\n",
    "ref_states_indicator[i,j]"
   ]
  },
  {
   "cell_type": "code",
   "execution_count": 133,
   "id": "93157806-4f8d-4ded-8546-b2bb5d52c184",
   "metadata": {},
   "outputs": [],
   "source": [
    "pi = dist.Dirichlet(alpha).sample()\n",
    "collapsed_pi = torch.matmul(ref_states_indicator[i,j,:,:].T, pi)\n",
    "assert torch.sum(collapsed_pi) == 1"
   ]
  },
  {
   "cell_type": "code",
   "execution_count": 1361,
   "id": "bfa04b9c-7c51-44f9-a94e-b637ad002b9e",
   "metadata": {},
   "outputs": [],
   "source": [
    "toy_parms = {\n",
    "    'num_bins': 25,\n",
    "    'num_references': 10,\n",
    "    'num_signals': 3,\n",
    "    'num_states': 4\n",
    "}\n",
    "\n",
    "class ToyGenerator:\n",
    "    def __init__(self,  \n",
    "                 num_bins=5, \n",
    "                 num_references=10, \n",
    "                 num_signals=3,\n",
    "                 num_states=5,\n",
    "                 high_w=100):\n",
    "        self.num_bins = num_bins\n",
    "        self.num_references = num_references\n",
    "        self.num_signals = num_signals\n",
    "        self.num_states = num_states\n",
    "        self.high_w = high_w\n",
    "        self.sample = None\n",
    "        self.params = self.set_params()\n",
    "    \n",
    "        \n",
    "    # parameter of state->signal distributions\n",
    "    # shape is (num_states, num_signals)\n",
    "    def generate_param_p(self):\n",
    "        p = torch.zeros((self.num_states, self.num_signals))\n",
    "        for i in range(self.num_states):\n",
    "            w = -self.high_w * torch.ones(self.num_signals)\n",
    "            w[i % self.num_signals] = self.high_w\n",
    "            p[i,:] = w\n",
    "        return p\n",
    "    \n",
    "    # generate a state assignment tensor\n",
    "    # shape is (num_regions, num_bins_per_region, num_references)\n",
    "    def generate_ref_states(self):\n",
    "        ref_states = torch.zeros(\n",
    "            (self.num_bins, \n",
    "             self.num_references))\n",
    "        \n",
    "        for i in range(self.num_references):\n",
    "            ref_states[:,i] = i % self.num_states\n",
    "        return ref_states.long()\n",
    "    \n",
    "    # set parameters of the data generator\n",
    "    def set_params(self):\n",
    "        # parameters of the dirichlet over references\n",
    "        # same one for every region\n",
    "        # very high probability that generated sample looks like\n",
    "        # reference 0\n",
    "        # shape is (num_references,)\n",
    "        alpha = torch.ones(self.num_references)\n",
    "        alpha[0] = self.high_w\n",
    "        \n",
    "        # parameters of bernoulli distribution for each signal\n",
    "        # for each state\n",
    "        # shape is (num_states, num_signals)\n",
    "        p = self.generate_param_p()\n",
    "        \n",
    "        # an indicator matrix along genome of the state for \n",
    "        # each refenrece\n",
    "        # shape is (num_regions, num_bins_per_region, num_states, num_references)\n",
    "        ref_states_indicator = F.one_hot(self.generate_ref_states(), self.num_states)\n",
    "        params = {\n",
    "            'alpha': alpha,\n",
    "            'p': p,\n",
    "            'ref_states_indicator': ref_states_indicator\n",
    "        }\n",
    "        self.params = params\n",
    "        return params\n",
    "        \n",
    "    # collapse a prob vector over references to a prob vector over states\n",
    "    # takes the cross product of prob vector pi and reference state indicator matrix r\n",
    "    # shapes:\n",
    "    #  pi: (None, num_references)\n",
    "    #  r: (None, num_references, num_states)\n",
    "    #  out: (None, num_states)\n",
    "    def collapse_pi(self, pi, r=None):\n",
    "        if r is None:\n",
    "            assert self.params is not None\n",
    "            r = self.params['ref_states_indicator']\n",
    "            \n",
    "        r = r.float()\n",
    "        collapsed_pi = torch.zeros(pi.shape[0], r.shape[2])\n",
    "        for i in range(pi.shape[0]):\n",
    "            collapsed_pi[i,:] = torch.matmul(r[i,:,:].T, pi[i,:])\n",
    "        return collapsed_pi\n",
    "    \n",
    "    def generate_sample(self):\n",
    "        if self.params is None:\n",
    "            self.set_params()\n",
    "            \n",
    "        r = self.params['ref_states_indicator']\n",
    "                \n",
    "        # generate reference distribution for each region\n",
    "        with pyro.plate('bins', self.num_bins):\n",
    "            # pi is shape (num_regions, num_references)\n",
    "            pi = pyro.sample('pi', dist.Dirichlet(self.params['alpha']))\n",
    "            # collapse the reference distribution for each bin to a \n",
    "            # state distribution \n",
    "            collapsed_pi = self.collapse_pi(pi, r)\n",
    "\n",
    "            signal_params = torch.sigmoid(torch.matmul(collapsed_pi, self.params['p']))\n",
    "            m = pyro.sample('m', dist.Bernoulli(signal_params).to_event(1))\n",
    "\n",
    "        result = {\n",
    "            'pi': pi,\n",
    "            'm': m\n",
    "        }\n",
    "        self.sample = result\n",
    "        return self.sample\n",
    "    \n",
    "    def get_sampled_collapsed_pi(self):\n",
    "        if self.sample is None:\n",
    "            self.generate_sample()\n",
    "        pi = self.sample['pi']\n",
    "        return self.collapse_pi(pi)\n",
    "    \n",
    "    def get_sampled_signals(self):\n",
    "        if self.sample is None:\n",
    "            self.generate_sample()\n",
    "        return self.sample['m']\n",
    "    \n",
    "    def get_sampled_pi(self):\n",
    "        if self.sample is None:\n",
    "            self.generate_sample()\n",
    "        return self.sample['pi']\n",
    "    \n",
    "    def get_signal_parms(self):\n",
    "        collapsed_pi = self.get_sampled_collapsed_pi()\n",
    "        return torch.sigmoid(torch.matmul(collapsed_pi, self.params['p']))\n",
    "    \n",
    "    def get_ref_state_indicators(self):\n",
    "        if self.params is None:\n",
    "            self.set_params()\n",
    "        return self.params['ref_states_indicator']\n",
    "    "
   ]
  },
  {
   "cell_type": "code",
   "execution_count": 1364,
   "id": "be54fe20-b402-44be-a039-381c45041145",
   "metadata": {},
   "outputs": [
    {
     "name": "stdout",
     "output_type": "stream",
     "text": [
      "torch.Size([25, 3])\n",
      "tensor([1., 0., 0.])\n"
     ]
    }
   ],
   "source": [
    "generator = ToyGenerator(**toy_parms, high_w=1000)\n",
    "m = generator.get_sampled_signals()\n",
    "r = generator.get_ref_state_indicators()\n",
    "print(m.shape)\n",
    "print(m[0,:])"
   ]
  },
  {
   "cell_type": "code",
   "execution_count": 1368,
   "id": "460919d9-4f32-479a-8a4b-1f2c08e84357",
   "metadata": {},
   "outputs": [
    {
     "name": "stdout",
     "output_type": "stream",
     "text": [
      "tensor([[9.9728e-01, 2.4500e-03, 3.9277e-05, 2.3388e-04],\n",
      "        [9.9439e-01, 1.7245e-03, 2.6350e-03, 1.2457e-03],\n",
      "        [9.9264e-01, 2.3736e-03, 1.0253e-03, 3.9576e-03]])\n",
      "tensor([[ 1000., -1000., -1000.],\n",
      "        [-1000.,  1000., -1000.],\n",
      "        [-1000., -1000.,  1000.],\n",
      "        [ 1000., -1000., -1000.]])\n",
      "tensor([[1., 0., 0.],\n",
      "        [1., 0., 0.],\n",
      "        [1., 0., 0.]])\n"
     ]
    }
   ],
   "source": [
    "print(generator.get_sampled_collapsed_pi()[0:3,:,])\n",
    "print(generator.params['p'])\n",
    "print(generator.get_signal_parms()[0:3,:])"
   ]
  },
  {
   "cell_type": "code",
   "execution_count": 1369,
   "id": "f4ad8c42-b122-425f-8cfc-0bc64a32aac2",
   "metadata": {},
   "outputs": [],
   "source": [
    "import math\n",
    "import torch.nn as nn\n",
    "import torch.nn.functional as F"
   ]
  },
  {
   "cell_type": "code",
   "execution_count": 1518,
   "id": "580ccd8f-a634-4f6b-948b-59512cfb9405",
   "metadata": {},
   "outputs": [],
   "source": [
    "class Encoder(nn.Module):\n",
    "    def __init__(self, num_signals, num_states, hidden, dropout):\n",
    "        super().__init__()\n",
    "        self.drop = nn.Dropout(dropout)\n",
    "        self.fc1 = nn.Linear(num_signals, hidden)\n",
    "        self.fc2 = nn.Linear(hidden, hidden)\n",
    "        self.fcmu = nn.Linear(hidden, num_states)\n",
    "        self.fclv = nn.Linear(hidden, num_states)\n",
    "        self.bnmu = nn.BatchNorm1d(num_states, affine=True)\n",
    "        self.bnlv = nn.BatchNorm1d(num_states, affine=True)\n",
    "        \n",
    "    def forward(self, x, r):\n",
    "        #inputs = torch.cat((x, r.reshape(r.shape[0], -1)), 1)\n",
    "        inputs = x\n",
    "        h = F.softplus(self.fc1(inputs))\n",
    "        h = F.softplus(self.fc2(h))\n",
    "        h = self.drop(h)\n",
    "        logpi_loc = self.bnmu(self.fcmu(h))\n",
    "        logpi_logvar = self.bnmu(self.fclv(h))\n",
    "        logpi_scale = (0.5 * logpi_logvar).exp()\n",
    "        return logpi_loc, logpi_scale\n",
    "\n",
    "class Decoder(nn.Module):\n",
    "    def __init__(self, num_states, num_signals, hidden, dropout):\n",
    "        super().__init__()\n",
    "        self.drop = nn.Dropout(dropout)\n",
    "        self.beta = nn.Linear(num_states, num_signals, bias=False)\n",
    "        self.bn = nn.BatchNorm1d(num_signals, affine=True)\n",
    "        \n",
    "    def forward(self, inputs):\n",
    "        inputs = self.drop(inputs)\n",
    "        beta = self.beta(inputs)\n",
    "        return torch.sigmoid(self.bn(beta))\n",
    "    \n",
    "class TransferStateModel(nn.Module):\n",
    "    def __init__(self, \n",
    "                 num_signals, \n",
    "                 num_references,\n",
    "                 num_states,\n",
    "                 hidden, \n",
    "                 dropout):\n",
    "        super().__init__()\n",
    "        self.num_signals = num_signals\n",
    "        self.num_references = num_references,\n",
    "        self.num_states = num_states,\n",
    "        self.hidden = hidden\n",
    "        self.dropout = dropout\n",
    "        self.encoder = Encoder(num_signals, num_states, hidden, dropout)\n",
    "        self.decoder = Decoder(num_states, num_signals, hidden, dropout)\n",
    "                \n",
    "    # shapes: \n",
    "    #  m: (bins x signals) signal matrix\n",
    "    #  r: (bins x reference x state) indicator matrix\n",
    "    def model(self, m, r):\n",
    "        # flatten out the r indicator matrix\n",
    "        pyro.module(\"decoder\", self.decoder)\n",
    "        with pyro.plate('bins', m.shape[0]):\n",
    "            logpi_loc = m.new_zeros((torch.Size(m.shape[0], self.num_states[0])))\n",
    "            logpi_scale = m.new_ones((torch.Size(m.shape[0], self.num_states[0])))\n",
    "            logpi = pyro.sample(\n",
    "                'logpi', dist.Normal(logpi_loc, logpi_scale).to_event(1))\n",
    "            pi = F.softmax(logpi, -1)\n",
    "            signal_param = self.decoder(pi)          \n",
    "            pyro.sample('m', dist.Bernoulli(signal_param).to_event(1), obs=m)\n",
    "                \n",
    "    def guide(self, m, r):\n",
    "        pyro.module(\"encoder\", self.encoder)\n",
    "        with pyro.plate('regions', m.shape[0]):\n",
    "            logpi_loc, logpi_scale = self.encoder(m, r)\n",
    "            logpi = pyro.sample(\n",
    "                'logpi', dist.Normal(logpi_loc, logpi_scale).to_event(1))\n",
    "   # def p(self):\n",
    "   #     return self.decoder.p.weight.cpu().detach().T\n",
    "        "
   ]
  },
  {
   "cell_type": "code",
   "execution_count": 1519,
   "id": "8f435288-8ee2-4292-b360-c5525a2bb21f",
   "metadata": {},
   "outputs": [],
   "source": [
    "serious_parms = {\n",
    "    'num_bins': 100,\n",
    "    'num_references': 12,\n",
    "    'num_signals': 3,\n",
    "    'num_states': 8\n",
    "}\n",
    "\n",
    "serious_generator = ToyGenerator(**serious_parms, high_w=100)"
   ]
  },
  {
   "cell_type": "code",
   "execution_count": 1520,
   "id": "3834289f-70c8-4037-9191-90e24c5df701",
   "metadata": {},
   "outputs": [
    {
     "name": "stdout",
     "output_type": "stream",
     "text": [
      "torch.Size([100, 3])\n",
      "torch.Size([100, 12, 8])\n"
     ]
    }
   ],
   "source": [
    "seed = 0\n",
    "torch.manual_seed(seed)\n",
    "pyro.set_rng_seed(seed)\n",
    "device = torch.device(\"cuda:0\" if torch.cuda.is_available() else \"cpu\")\n",
    "\n",
    "m = serious_generator.get_sampled_signals()\n",
    "r = serious_generator.get_ref_state_indicators()\n",
    "\n",
    "print(m.shape)\n",
    "print(r.shape)"
   ]
  },
  {
   "cell_type": "code",
   "execution_count": 1521,
   "id": "66a00519-7716-46a5-8428-b04758b9f186",
   "metadata": {},
   "outputs": [],
   "source": [
    "pyro.clear_param_store()\n",
    "state_model = TransferStateModel(\n",
    "    num_signals = serious_generator.num_signals,\n",
    "    num_references = serious_generator.num_references,\n",
    "    num_states = serious_generator.num_states,\n",
    "    hidden = 32,\n",
    "    dropout = 0.2)"
   ]
  },
  {
   "cell_type": "code",
   "execution_count": 1522,
   "id": "becf8919-4c89-4a5f-b9bd-b82f471c77fd",
   "metadata": {},
   "outputs": [],
   "source": [
    "from pyro.infer import SVI, TraceMeanField_ELBO\n",
    "from tqdm import trange"
   ]
  },
  {
   "cell_type": "code",
   "execution_count": 1523,
   "id": "abd7801b-8a50-4a3b-a9f8-88dac3aa99f3",
   "metadata": {},
   "outputs": [
    {
     "name": "stderr",
     "output_type": "stream",
     "text": [
      "  0%|                                                                                                 | 0/1000 [00:00<?, ?it/s]\n"
     ]
    },
    {
     "ename": "TypeError",
     "evalue": "tuple expected at most 1 argument, got 2",
     "output_type": "error",
     "traceback": [
      "\u001b[0;31m---------------------------------------------------------------------------\u001b[0m",
      "\u001b[0;31mTypeError\u001b[0m                                 Traceback (most recent call last)",
      "\u001b[0;32m/var/folders/x0/b_dlyk817hzc6ps9_7pt8ftm0000gn/T/ipykernel_81721/1231066828.py\u001b[0m in \u001b[0;36m<module>\u001b[0;34m\u001b[0m\n\u001b[1;32m     14\u001b[0m         \u001b[0mbatch_m\u001b[0m \u001b[0;34m=\u001b[0m \u001b[0mm\u001b[0m\u001b[0;34m[\u001b[0m\u001b[0mi\u001b[0m \u001b[0;34m*\u001b[0m \u001b[0mbatch_size\u001b[0m\u001b[0;34m:\u001b[0m\u001b[0;34m(\u001b[0m\u001b[0mi\u001b[0m\u001b[0;34m+\u001b[0m\u001b[0;36m1\u001b[0m\u001b[0;34m)\u001b[0m \u001b[0;34m*\u001b[0m \u001b[0mbatch_size\u001b[0m\u001b[0;34m,\u001b[0m \u001b[0;34m:\u001b[0m\u001b[0;34m]\u001b[0m\u001b[0;34m\u001b[0m\u001b[0;34m\u001b[0m\u001b[0m\n\u001b[1;32m     15\u001b[0m         \u001b[0mbatch_r\u001b[0m \u001b[0;34m=\u001b[0m \u001b[0mr\u001b[0m\u001b[0;34m[\u001b[0m\u001b[0mi\u001b[0m \u001b[0;34m*\u001b[0m \u001b[0mbatch_size\u001b[0m\u001b[0;34m:\u001b[0m\u001b[0;34m(\u001b[0m\u001b[0mi\u001b[0m\u001b[0;34m+\u001b[0m\u001b[0;36m1\u001b[0m\u001b[0;34m)\u001b[0m \u001b[0;34m*\u001b[0m \u001b[0mbatch_size\u001b[0m\u001b[0;34m,\u001b[0m \u001b[0;34m:\u001b[0m\u001b[0;34m,\u001b[0m \u001b[0;34m:\u001b[0m\u001b[0;34m]\u001b[0m\u001b[0;34m\u001b[0m\u001b[0;34m\u001b[0m\u001b[0m\n\u001b[0;32m---> 16\u001b[0;31m         \u001b[0mloss\u001b[0m \u001b[0;34m=\u001b[0m \u001b[0msvi\u001b[0m\u001b[0;34m.\u001b[0m\u001b[0mstep\u001b[0m\u001b[0;34m(\u001b[0m\u001b[0mbatch_m\u001b[0m\u001b[0;34m,\u001b[0m \u001b[0mbatch_r\u001b[0m\u001b[0;34m)\u001b[0m\u001b[0;34m\u001b[0m\u001b[0;34m\u001b[0m\u001b[0m\n\u001b[0m\u001b[1;32m     17\u001b[0m         \u001b[0mrunning_loss\u001b[0m \u001b[0;34m+=\u001b[0m \u001b[0mloss\u001b[0m \u001b[0;34m/\u001b[0m \u001b[0mbatch_m\u001b[0m\u001b[0;34m.\u001b[0m\u001b[0msize\u001b[0m\u001b[0;34m(\u001b[0m\u001b[0;36m0\u001b[0m\u001b[0;34m)\u001b[0m\u001b[0;34m\u001b[0m\u001b[0;34m\u001b[0m\u001b[0m\n\u001b[1;32m     18\u001b[0m \u001b[0;34m\u001b[0m\u001b[0m\n",
      "\u001b[0;32m~/.local/share/virtualenvs/firstoy-Xs81ESwy/lib/python3.9/site-packages/pyro/infer/svi.py\u001b[0m in \u001b[0;36mstep\u001b[0;34m(self, *args, **kwargs)\u001b[0m\n\u001b[1;32m    143\u001b[0m         \u001b[0;31m# get loss and compute gradients\u001b[0m\u001b[0;34m\u001b[0m\u001b[0;34m\u001b[0m\u001b[0;34m\u001b[0m\u001b[0m\n\u001b[1;32m    144\u001b[0m         \u001b[0;32mwith\u001b[0m \u001b[0mpoutine\u001b[0m\u001b[0;34m.\u001b[0m\u001b[0mtrace\u001b[0m\u001b[0;34m(\u001b[0m\u001b[0mparam_only\u001b[0m\u001b[0;34m=\u001b[0m\u001b[0;32mTrue\u001b[0m\u001b[0;34m)\u001b[0m \u001b[0;32mas\u001b[0m \u001b[0mparam_capture\u001b[0m\u001b[0;34m:\u001b[0m\u001b[0;34m\u001b[0m\u001b[0;34m\u001b[0m\u001b[0m\n\u001b[0;32m--> 145\u001b[0;31m             \u001b[0mloss\u001b[0m \u001b[0;34m=\u001b[0m \u001b[0mself\u001b[0m\u001b[0;34m.\u001b[0m\u001b[0mloss_and_grads\u001b[0m\u001b[0;34m(\u001b[0m\u001b[0mself\u001b[0m\u001b[0;34m.\u001b[0m\u001b[0mmodel\u001b[0m\u001b[0;34m,\u001b[0m \u001b[0mself\u001b[0m\u001b[0;34m.\u001b[0m\u001b[0mguide\u001b[0m\u001b[0;34m,\u001b[0m \u001b[0;34m*\u001b[0m\u001b[0margs\u001b[0m\u001b[0;34m,\u001b[0m \u001b[0;34m**\u001b[0m\u001b[0mkwargs\u001b[0m\u001b[0;34m)\u001b[0m\u001b[0;34m\u001b[0m\u001b[0;34m\u001b[0m\u001b[0m\n\u001b[0m\u001b[1;32m    146\u001b[0m \u001b[0;34m\u001b[0m\u001b[0m\n\u001b[1;32m    147\u001b[0m         params = set(\n",
      "\u001b[0;32m~/.local/share/virtualenvs/firstoy-Xs81ESwy/lib/python3.9/site-packages/pyro/infer/trace_elbo.py\u001b[0m in \u001b[0;36mloss_and_grads\u001b[0;34m(self, model, guide, *args, **kwargs)\u001b[0m\n\u001b[1;32m    138\u001b[0m         \u001b[0mloss\u001b[0m \u001b[0;34m=\u001b[0m \u001b[0;36m0.0\u001b[0m\u001b[0;34m\u001b[0m\u001b[0;34m\u001b[0m\u001b[0m\n\u001b[1;32m    139\u001b[0m         \u001b[0;31m# grab a trace from the generator\u001b[0m\u001b[0;34m\u001b[0m\u001b[0;34m\u001b[0m\u001b[0;34m\u001b[0m\u001b[0m\n\u001b[0;32m--> 140\u001b[0;31m         \u001b[0;32mfor\u001b[0m \u001b[0mmodel_trace\u001b[0m\u001b[0;34m,\u001b[0m \u001b[0mguide_trace\u001b[0m \u001b[0;32min\u001b[0m \u001b[0mself\u001b[0m\u001b[0;34m.\u001b[0m\u001b[0m_get_traces\u001b[0m\u001b[0;34m(\u001b[0m\u001b[0mmodel\u001b[0m\u001b[0;34m,\u001b[0m \u001b[0mguide\u001b[0m\u001b[0;34m,\u001b[0m \u001b[0margs\u001b[0m\u001b[0;34m,\u001b[0m \u001b[0mkwargs\u001b[0m\u001b[0;34m)\u001b[0m\u001b[0;34m:\u001b[0m\u001b[0;34m\u001b[0m\u001b[0;34m\u001b[0m\u001b[0m\n\u001b[0m\u001b[1;32m    141\u001b[0m             loss_particle, surrogate_loss_particle = self._differentiable_loss_particle(\n\u001b[1;32m    142\u001b[0m                 \u001b[0mmodel_trace\u001b[0m\u001b[0;34m,\u001b[0m \u001b[0mguide_trace\u001b[0m\u001b[0;34m\u001b[0m\u001b[0;34m\u001b[0m\u001b[0m\n",
      "\u001b[0;32m~/.local/share/virtualenvs/firstoy-Xs81ESwy/lib/python3.9/site-packages/pyro/infer/elbo.py\u001b[0m in \u001b[0;36m_get_traces\u001b[0;34m(self, model, guide, args, kwargs)\u001b[0m\n\u001b[1;32m    184\u001b[0m         \u001b[0;32melse\u001b[0m\u001b[0;34m:\u001b[0m\u001b[0;34m\u001b[0m\u001b[0;34m\u001b[0m\u001b[0m\n\u001b[1;32m    185\u001b[0m             \u001b[0;32mfor\u001b[0m \u001b[0mi\u001b[0m \u001b[0;32min\u001b[0m \u001b[0mrange\u001b[0m\u001b[0;34m(\u001b[0m\u001b[0mself\u001b[0m\u001b[0;34m.\u001b[0m\u001b[0mnum_particles\u001b[0m\u001b[0;34m)\u001b[0m\u001b[0;34m:\u001b[0m\u001b[0;34m\u001b[0m\u001b[0;34m\u001b[0m\u001b[0m\n\u001b[0;32m--> 186\u001b[0;31m                 \u001b[0;32myield\u001b[0m \u001b[0mself\u001b[0m\u001b[0;34m.\u001b[0m\u001b[0m_get_trace\u001b[0m\u001b[0;34m(\u001b[0m\u001b[0mmodel\u001b[0m\u001b[0;34m,\u001b[0m \u001b[0mguide\u001b[0m\u001b[0;34m,\u001b[0m \u001b[0margs\u001b[0m\u001b[0;34m,\u001b[0m \u001b[0mkwargs\u001b[0m\u001b[0;34m)\u001b[0m\u001b[0;34m\u001b[0m\u001b[0;34m\u001b[0m\u001b[0m\n\u001b[0m",
      "\u001b[0;32m~/.local/share/virtualenvs/firstoy-Xs81ESwy/lib/python3.9/site-packages/pyro/infer/trace_mean_field_elbo.py\u001b[0m in \u001b[0;36m_get_trace\u001b[0;34m(self, model, guide, args, kwargs)\u001b[0m\n\u001b[1;32m     80\u001b[0m \u001b[0;34m\u001b[0m\u001b[0m\n\u001b[1;32m     81\u001b[0m     \u001b[0;32mdef\u001b[0m \u001b[0m_get_trace\u001b[0m\u001b[0;34m(\u001b[0m\u001b[0mself\u001b[0m\u001b[0;34m,\u001b[0m \u001b[0mmodel\u001b[0m\u001b[0;34m,\u001b[0m \u001b[0mguide\u001b[0m\u001b[0;34m,\u001b[0m \u001b[0margs\u001b[0m\u001b[0;34m,\u001b[0m \u001b[0mkwargs\u001b[0m\u001b[0;34m)\u001b[0m\u001b[0;34m:\u001b[0m\u001b[0;34m\u001b[0m\u001b[0;34m\u001b[0m\u001b[0m\n\u001b[0;32m---> 82\u001b[0;31m         \u001b[0mmodel_trace\u001b[0m\u001b[0;34m,\u001b[0m \u001b[0mguide_trace\u001b[0m \u001b[0;34m=\u001b[0m \u001b[0msuper\u001b[0m\u001b[0;34m(\u001b[0m\u001b[0;34m)\u001b[0m\u001b[0;34m.\u001b[0m\u001b[0m_get_trace\u001b[0m\u001b[0;34m(\u001b[0m\u001b[0mmodel\u001b[0m\u001b[0;34m,\u001b[0m \u001b[0mguide\u001b[0m\u001b[0;34m,\u001b[0m \u001b[0margs\u001b[0m\u001b[0;34m,\u001b[0m \u001b[0mkwargs\u001b[0m\u001b[0;34m)\u001b[0m\u001b[0;34m\u001b[0m\u001b[0;34m\u001b[0m\u001b[0m\n\u001b[0m\u001b[1;32m     83\u001b[0m         \u001b[0;32mif\u001b[0m \u001b[0mis_validation_enabled\u001b[0m\u001b[0;34m(\u001b[0m\u001b[0;34m)\u001b[0m\u001b[0;34m:\u001b[0m\u001b[0;34m\u001b[0m\u001b[0;34m\u001b[0m\u001b[0m\n\u001b[1;32m     84\u001b[0m             \u001b[0m_check_mean_field_requirement\u001b[0m\u001b[0;34m(\u001b[0m\u001b[0mmodel_trace\u001b[0m\u001b[0;34m,\u001b[0m \u001b[0mguide_trace\u001b[0m\u001b[0;34m)\u001b[0m\u001b[0;34m\u001b[0m\u001b[0;34m\u001b[0m\u001b[0m\n",
      "\u001b[0;32m~/.local/share/virtualenvs/firstoy-Xs81ESwy/lib/python3.9/site-packages/pyro/infer/trace_elbo.py\u001b[0m in \u001b[0;36m_get_trace\u001b[0;34m(self, model, guide, args, kwargs)\u001b[0m\n\u001b[1;32m     55\u001b[0m         \u001b[0magainst\u001b[0m \u001b[0mit\u001b[0m\u001b[0;34m.\u001b[0m\u001b[0;34m\u001b[0m\u001b[0;34m\u001b[0m\u001b[0m\n\u001b[1;32m     56\u001b[0m         \"\"\"\n\u001b[0;32m---> 57\u001b[0;31m         model_trace, guide_trace = get_importance_trace(\n\u001b[0m\u001b[1;32m     58\u001b[0m             \u001b[0;34m\"flat\"\u001b[0m\u001b[0;34m,\u001b[0m \u001b[0mself\u001b[0m\u001b[0;34m.\u001b[0m\u001b[0mmax_plate_nesting\u001b[0m\u001b[0;34m,\u001b[0m \u001b[0mmodel\u001b[0m\u001b[0;34m,\u001b[0m \u001b[0mguide\u001b[0m\u001b[0;34m,\u001b[0m \u001b[0margs\u001b[0m\u001b[0;34m,\u001b[0m \u001b[0mkwargs\u001b[0m\u001b[0;34m\u001b[0m\u001b[0;34m\u001b[0m\u001b[0m\n\u001b[1;32m     59\u001b[0m         )\n",
      "\u001b[0;32m~/.local/share/virtualenvs/firstoy-Xs81ESwy/lib/python3.9/site-packages/pyro/infer/enum.py\u001b[0m in \u001b[0;36mget_importance_trace\u001b[0;34m(graph_type, max_plate_nesting, model, guide, args, kwargs, detach)\u001b[0m\n\u001b[1;32m     53\u001b[0m     \u001b[0;32mif\u001b[0m \u001b[0mdetach\u001b[0m\u001b[0;34m:\u001b[0m\u001b[0;34m\u001b[0m\u001b[0;34m\u001b[0m\u001b[0m\n\u001b[1;32m     54\u001b[0m         \u001b[0mguide_trace\u001b[0m\u001b[0;34m.\u001b[0m\u001b[0mdetach_\u001b[0m\u001b[0;34m(\u001b[0m\u001b[0;34m)\u001b[0m\u001b[0;34m\u001b[0m\u001b[0;34m\u001b[0m\u001b[0m\n\u001b[0;32m---> 55\u001b[0;31m     model_trace = poutine.trace(\n\u001b[0m\u001b[1;32m     56\u001b[0m         \u001b[0mpoutine\u001b[0m\u001b[0;34m.\u001b[0m\u001b[0mreplay\u001b[0m\u001b[0;34m(\u001b[0m\u001b[0mmodel\u001b[0m\u001b[0;34m,\u001b[0m \u001b[0mtrace\u001b[0m\u001b[0;34m=\u001b[0m\u001b[0mguide_trace\u001b[0m\u001b[0;34m)\u001b[0m\u001b[0;34m,\u001b[0m \u001b[0mgraph_type\u001b[0m\u001b[0;34m=\u001b[0m\u001b[0mgraph_type\u001b[0m\u001b[0;34m\u001b[0m\u001b[0;34m\u001b[0m\u001b[0m\n\u001b[1;32m     57\u001b[0m     ).get_trace(*args, **kwargs)\n",
      "\u001b[0;32m~/.local/share/virtualenvs/firstoy-Xs81ESwy/lib/python3.9/site-packages/pyro/poutine/trace_messenger.py\u001b[0m in \u001b[0;36mget_trace\u001b[0;34m(self, *args, **kwargs)\u001b[0m\n\u001b[1;32m    196\u001b[0m         \u001b[0mCalls\u001b[0m \u001b[0mthis\u001b[0m \u001b[0mpoutine\u001b[0m \u001b[0;32mand\u001b[0m \u001b[0mreturns\u001b[0m \u001b[0mits\u001b[0m \u001b[0mtrace\u001b[0m \u001b[0minstead\u001b[0m \u001b[0mof\u001b[0m \u001b[0mthe\u001b[0m \u001b[0mfunction\u001b[0m\u001b[0;31m'\u001b[0m\u001b[0ms\u001b[0m \u001b[0;32mreturn\u001b[0m \u001b[0mvalue\u001b[0m\u001b[0;34m.\u001b[0m\u001b[0;34m\u001b[0m\u001b[0;34m\u001b[0m\u001b[0m\n\u001b[1;32m    197\u001b[0m         \"\"\"\n\u001b[0;32m--> 198\u001b[0;31m         \u001b[0mself\u001b[0m\u001b[0;34m(\u001b[0m\u001b[0;34m*\u001b[0m\u001b[0margs\u001b[0m\u001b[0;34m,\u001b[0m \u001b[0;34m**\u001b[0m\u001b[0mkwargs\u001b[0m\u001b[0;34m)\u001b[0m\u001b[0;34m\u001b[0m\u001b[0;34m\u001b[0m\u001b[0m\n\u001b[0m\u001b[1;32m    199\u001b[0m         \u001b[0;32mreturn\u001b[0m \u001b[0mself\u001b[0m\u001b[0;34m.\u001b[0m\u001b[0mmsngr\u001b[0m\u001b[0;34m.\u001b[0m\u001b[0mget_trace\u001b[0m\u001b[0;34m(\u001b[0m\u001b[0;34m)\u001b[0m\u001b[0;34m\u001b[0m\u001b[0;34m\u001b[0m\u001b[0m\n",
      "\u001b[0;32m~/.local/share/virtualenvs/firstoy-Xs81ESwy/lib/python3.9/site-packages/pyro/poutine/trace_messenger.py\u001b[0m in \u001b[0;36m__call__\u001b[0;34m(self, *args, **kwargs)\u001b[0m\n\u001b[1;32m    172\u001b[0m             )\n\u001b[1;32m    173\u001b[0m             \u001b[0;32mtry\u001b[0m\u001b[0;34m:\u001b[0m\u001b[0;34m\u001b[0m\u001b[0;34m\u001b[0m\u001b[0m\n\u001b[0;32m--> 174\u001b[0;31m                 \u001b[0mret\u001b[0m \u001b[0;34m=\u001b[0m \u001b[0mself\u001b[0m\u001b[0;34m.\u001b[0m\u001b[0mfn\u001b[0m\u001b[0;34m(\u001b[0m\u001b[0;34m*\u001b[0m\u001b[0margs\u001b[0m\u001b[0;34m,\u001b[0m \u001b[0;34m**\u001b[0m\u001b[0mkwargs\u001b[0m\u001b[0;34m)\u001b[0m\u001b[0;34m\u001b[0m\u001b[0;34m\u001b[0m\u001b[0m\n\u001b[0m\u001b[1;32m    175\u001b[0m             \u001b[0;32mexcept\u001b[0m \u001b[0;34m(\u001b[0m\u001b[0mValueError\u001b[0m\u001b[0;34m,\u001b[0m \u001b[0mRuntimeError\u001b[0m\u001b[0;34m)\u001b[0m \u001b[0;32mas\u001b[0m \u001b[0me\u001b[0m\u001b[0;34m:\u001b[0m\u001b[0;34m\u001b[0m\u001b[0;34m\u001b[0m\u001b[0m\n\u001b[1;32m    176\u001b[0m                 \u001b[0mexc_type\u001b[0m\u001b[0;34m,\u001b[0m \u001b[0mexc_value\u001b[0m\u001b[0;34m,\u001b[0m \u001b[0mtraceback\u001b[0m \u001b[0;34m=\u001b[0m \u001b[0msys\u001b[0m\u001b[0;34m.\u001b[0m\u001b[0mexc_info\u001b[0m\u001b[0;34m(\u001b[0m\u001b[0;34m)\u001b[0m\u001b[0;34m\u001b[0m\u001b[0;34m\u001b[0m\u001b[0m\n",
      "\u001b[0;32m~/.local/share/virtualenvs/firstoy-Xs81ESwy/lib/python3.9/site-packages/pyro/poutine/messenger.py\u001b[0m in \u001b[0;36m_context_wrap\u001b[0;34m(context, fn, *args, **kwargs)\u001b[0m\n\u001b[1;32m     10\u001b[0m \u001b[0;32mdef\u001b[0m \u001b[0m_context_wrap\u001b[0m\u001b[0;34m(\u001b[0m\u001b[0mcontext\u001b[0m\u001b[0;34m,\u001b[0m \u001b[0mfn\u001b[0m\u001b[0;34m,\u001b[0m \u001b[0;34m*\u001b[0m\u001b[0margs\u001b[0m\u001b[0;34m,\u001b[0m \u001b[0;34m**\u001b[0m\u001b[0mkwargs\u001b[0m\u001b[0;34m)\u001b[0m\u001b[0;34m:\u001b[0m\u001b[0;34m\u001b[0m\u001b[0;34m\u001b[0m\u001b[0m\n\u001b[1;32m     11\u001b[0m     \u001b[0;32mwith\u001b[0m \u001b[0mcontext\u001b[0m\u001b[0;34m:\u001b[0m\u001b[0;34m\u001b[0m\u001b[0;34m\u001b[0m\u001b[0m\n\u001b[0;32m---> 12\u001b[0;31m         \u001b[0;32mreturn\u001b[0m \u001b[0mfn\u001b[0m\u001b[0;34m(\u001b[0m\u001b[0;34m*\u001b[0m\u001b[0margs\u001b[0m\u001b[0;34m,\u001b[0m \u001b[0;34m**\u001b[0m\u001b[0mkwargs\u001b[0m\u001b[0;34m)\u001b[0m\u001b[0;34m\u001b[0m\u001b[0;34m\u001b[0m\u001b[0m\n\u001b[0m\u001b[1;32m     13\u001b[0m \u001b[0;34m\u001b[0m\u001b[0m\n\u001b[1;32m     14\u001b[0m \u001b[0;34m\u001b[0m\u001b[0m\n",
      "\u001b[0;32m/var/folders/x0/b_dlyk817hzc6ps9_7pt8ftm0000gn/T/ipykernel_81721/1151025066.py\u001b[0m in \u001b[0;36mmodel\u001b[0;34m(self, m, r)\u001b[0m\n\u001b[1;32m     56\u001b[0m         \u001b[0mpyro\u001b[0m\u001b[0;34m.\u001b[0m\u001b[0mmodule\u001b[0m\u001b[0;34m(\u001b[0m\u001b[0;34m\"decoder\"\u001b[0m\u001b[0;34m,\u001b[0m \u001b[0mself\u001b[0m\u001b[0;34m.\u001b[0m\u001b[0mdecoder\u001b[0m\u001b[0;34m)\u001b[0m\u001b[0;34m\u001b[0m\u001b[0;34m\u001b[0m\u001b[0m\n\u001b[1;32m     57\u001b[0m         \u001b[0;32mwith\u001b[0m \u001b[0mpyro\u001b[0m\u001b[0;34m.\u001b[0m\u001b[0mplate\u001b[0m\u001b[0;34m(\u001b[0m\u001b[0;34m'bins'\u001b[0m\u001b[0;34m,\u001b[0m \u001b[0mm\u001b[0m\u001b[0;34m.\u001b[0m\u001b[0mshape\u001b[0m\u001b[0;34m[\u001b[0m\u001b[0;36m0\u001b[0m\u001b[0;34m]\u001b[0m\u001b[0;34m)\u001b[0m\u001b[0;34m:\u001b[0m\u001b[0;34m\u001b[0m\u001b[0;34m\u001b[0m\u001b[0m\n\u001b[0;32m---> 58\u001b[0;31m             \u001b[0mlogpi_loc\u001b[0m \u001b[0;34m=\u001b[0m \u001b[0mm\u001b[0m\u001b[0;34m.\u001b[0m\u001b[0mnew_zeros\u001b[0m\u001b[0;34m(\u001b[0m\u001b[0;34m(\u001b[0m\u001b[0mtorch\u001b[0m\u001b[0;34m.\u001b[0m\u001b[0mSize\u001b[0m\u001b[0;34m(\u001b[0m\u001b[0mm\u001b[0m\u001b[0;34m.\u001b[0m\u001b[0mshape\u001b[0m\u001b[0;34m[\u001b[0m\u001b[0;36m0\u001b[0m\u001b[0;34m]\u001b[0m\u001b[0;34m,\u001b[0m \u001b[0mself\u001b[0m\u001b[0;34m.\u001b[0m\u001b[0mnum_states\u001b[0m\u001b[0;34m[\u001b[0m\u001b[0;36m0\u001b[0m\u001b[0;34m]\u001b[0m\u001b[0;34m)\u001b[0m\u001b[0;34m)\u001b[0m\u001b[0;34m)\u001b[0m\u001b[0;34m\u001b[0m\u001b[0;34m\u001b[0m\u001b[0m\n\u001b[0m\u001b[1;32m     59\u001b[0m             \u001b[0mlogpi_scale\u001b[0m \u001b[0;34m=\u001b[0m \u001b[0mm\u001b[0m\u001b[0;34m.\u001b[0m\u001b[0mnew_ones\u001b[0m\u001b[0;34m(\u001b[0m\u001b[0;34m(\u001b[0m\u001b[0mtorch\u001b[0m\u001b[0;34m.\u001b[0m\u001b[0mSize\u001b[0m\u001b[0;34m(\u001b[0m\u001b[0mm\u001b[0m\u001b[0;34m.\u001b[0m\u001b[0mshape\u001b[0m\u001b[0;34m[\u001b[0m\u001b[0;36m0\u001b[0m\u001b[0;34m]\u001b[0m\u001b[0;34m,\u001b[0m \u001b[0mself\u001b[0m\u001b[0;34m.\u001b[0m\u001b[0mnum_states\u001b[0m\u001b[0;34m[\u001b[0m\u001b[0;36m0\u001b[0m\u001b[0;34m]\u001b[0m\u001b[0;34m)\u001b[0m\u001b[0;34m)\u001b[0m\u001b[0;34m)\u001b[0m\u001b[0;34m\u001b[0m\u001b[0;34m\u001b[0m\u001b[0m\n\u001b[1;32m     60\u001b[0m             logpi = pyro.sample(\n",
      "\u001b[0;31mTypeError\u001b[0m: tuple expected at most 1 argument, got 2"
     ]
    }
   ],
   "source": [
    "batch_size = 20\n",
    "learning_rate = 1e-3\n",
    "num_epochs = 1000\n",
    "\n",
    "state_model.to(device)\n",
    "optimizer = pyro.optim.Adam({\"lr\": learning_rate})\n",
    "svi = SVI(state_model.model, state_model.guide, optimizer, loss=TraceMeanField_ELBO())\n",
    "num_batches = int(math.ceil(m.shape[0] / batch_size))\n",
    "\n",
    "bar = trange(num_epochs)\n",
    "for epoch in bar:\n",
    "    running_loss = 0.0\n",
    "    for i in range(num_batches):\n",
    "        batch_m = m[i * batch_size:(i+1) * batch_size, :]\n",
    "        batch_r = r[i * batch_size:(i+1) * batch_size, :, :]\n",
    "        loss = svi.step(batch_m, batch_r)\n",
    "        running_loss += loss / batch_m.size(0)\n",
    "        \n",
    "    bar.set_postfix(epoch_loss='{:.2e}'.format(running_loss))"
   ]
  },
  {
   "cell_type": "code",
   "execution_count": 1505,
   "id": "21f17711-376e-4bd2-8d7c-e21b7a735084",
   "metadata": {},
   "outputs": [],
   "source": [
    "class TransferStateModelPostHoc:\n",
    "    def __init__(self, model):\n",
    "        self.model = model\n",
    "        \n",
    "    def sample_one_posterior_pi(self, loc, scale):\n",
    "        logpi = dist.Normal(loc, scale).sample()\n",
    "        return F.softmax(logpi, -1)\n",
    "    \n",
    "    def get_posterior_pi(self, m, r, num_samples = 1000):\n",
    "        running_sum = torch.zeros(m.shape[0], self.model.num_states[0])\n",
    "        running_sum_squares = torch.zeros(m.shape[0], self.model.num_states[0])\n",
    "        for _ in range(num_samples):\n",
    "            loc, scale = self.model.encoder(m, r)\n",
    "            logpi = dist.Normal(loc, scale).sample()\n",
    "            pi = F.softmax(logpi, -1)\n",
    "            running_sum += pi\n",
    "            running_sum_squares += (pi ** 2)\n",
    "            \n",
    "        return {\n",
    "            'posterior_mean': running_sum / num_samples, \n",
    "            'posterior_std': torch.sqrt(running_sum_squares / num_samples),\n",
    "            'hacky_pi': F.softmax(running_sum, dim=1)\n",
    "        }\n",
    "    \n",
    "    def do_posterior_stuff(self, m, r, num_samples=100):\n",
    "        pi = self.get_posterior_pi(m, r, num_samples=num_samples)\n",
    "        signal_param = self.model.decoder(pi['hacky_pi'])\n",
    "        m = (signal_param > 0.5).float()\n",
    "        return {\n",
    "            'pi': pi,\n",
    "            'signal_param': signal_param,\n",
    "            'm': m\n",
    "        }"
   ]
  },
  {
   "cell_type": "code",
   "execution_count": 1506,
   "id": "d45a4a1c-8b9f-46be-815e-44e83bf5edda",
   "metadata": {},
   "outputs": [],
   "source": [
    "posterior_stuff=TransferStateModelPostHoc(state_model).do_posterior_stuff(m, r)"
   ]
  },
  {
   "cell_type": "code",
   "execution_count": 1507,
   "id": "71058f9f-3b37-4b8a-bfa1-b3bb07ef410a",
   "metadata": {},
   "outputs": [
    {
     "data": {
      "text/plain": [
       "tensor([[0.5032, 0.0578, 0.0120, 0.0403, 0.3583, 0.0105, 0.0065, 0.0114],\n",
       "        [0.0216, 0.0794, 0.1330, 0.0898, 0.1676, 0.2295, 0.1995, 0.0796],\n",
       "        [0.1161, 0.0175, 0.0290, 0.0998, 0.0320, 0.3084, 0.3318, 0.0654],\n",
       "        [0.1868, 0.1690, 0.1083, 0.0958, 0.0332, 0.0401, 0.0897, 0.2772],\n",
       "        [0.1260, 0.0141, 0.3549, 0.0319, 0.2706, 0.0131, 0.0246, 0.1647]])"
      ]
     },
     "execution_count": 1507,
     "metadata": {},
     "output_type": "execute_result"
    }
   ],
   "source": [
    "posterior_stuff['pi']['hacky_pi'][0:5,:]"
   ]
  },
  {
   "cell_type": "code",
   "execution_count": 1508,
   "id": "6461f326-71e2-4c86-b5f7-a0919bae24a1",
   "metadata": {},
   "outputs": [
    {
     "data": {
      "text/plain": [
       "tensor([[0.5006, 0.4954, 0.5011],\n",
       "        [0.5001, 0.4963, 0.5003],\n",
       "        [0.4999, 0.4941, 0.5000],\n",
       "        [0.5000, 0.5066, 0.4995],\n",
       "        [0.5006, 0.4978, 0.5007]], grad_fn=<SliceBackward>)"
      ]
     },
     "execution_count": 1508,
     "metadata": {},
     "output_type": "execute_result"
    }
   ],
   "source": [
    "posterior_stuff['signal_param'][0:5,:]"
   ]
  },
  {
   "cell_type": "code",
   "execution_count": 1462,
   "id": "0dad0b3c-ccdc-48d5-b554-df4cafd22b95",
   "metadata": {},
   "outputs": [
    {
     "data": {
      "text/plain": [
       "tensor([[0.0209, 0.0678, 0.5084, 0.1500, 0.0091, 0.0412, 0.0963, 0.1063],\n",
       "        [0.0107, 0.3958, 0.1768, 0.0582, 0.0687, 0.0120, 0.1908, 0.0870],\n",
       "        [0.0418, 0.0814, 0.0569, 0.2400, 0.4487, 0.0435, 0.0118, 0.0760],\n",
       "        [0.0871, 0.0377, 0.0634, 0.0825, 0.2295, 0.0326, 0.0515, 0.4157],\n",
       "        [0.0241, 0.7570, 0.0145, 0.0014, 0.0792, 0.0856, 0.0302, 0.0081]])"
      ]
     },
     "execution_count": 1462,
     "metadata": {},
     "output_type": "execute_result"
    }
   ],
   "source": [
    "pi_posterior['pi']['hacky_pi'][0:5,:]"
   ]
  },
  {
   "cell_type": "code",
   "execution_count": 1443,
   "id": "37dcb68c-8a3e-4db7-a0f1-2536f901af4d",
   "metadata": {},
   "outputs": [
    {
     "data": {
      "text/plain": [
       "tensor([[0.5001, 0.5001, 0.4995],\n",
       "        [0.5002, 0.4997, 0.5001],\n",
       "        [0.4997, 0.5002, 0.4995],\n",
       "        [0.5000, 0.5008, 0.4993],\n",
       "        [0.5002, 0.5001, 0.5012]], grad_fn=<SliceBackward>)"
      ]
     },
     "execution_count": 1443,
     "metadata": {},
     "output_type": "execute_result"
    }
   ],
   "source": [
    "pi_posterior['signal_param'][0:5,:]"
   ]
  },
  {
   "cell_type": "code",
   "execution_count": 1444,
   "id": "d6ee4052-0cd6-4892-9d7d-9700a043ab0b",
   "metadata": {},
   "outputs": [
    {
     "data": {
      "text/plain": [
       "tensor([[1., 1., 0.],\n",
       "        [1., 0., 1.],\n",
       "        [0., 1., 0.],\n",
       "        [1., 1., 0.],\n",
       "        [1., 1., 1.]])"
      ]
     },
     "execution_count": 1444,
     "metadata": {},
     "output_type": "execute_result"
    }
   ],
   "source": [
    "pi_posterior['m'][0:5,:]"
   ]
  },
  {
   "cell_type": "code",
   "execution_count": 1445,
   "id": "44ac75c5-a14b-4fbe-b7a5-b7d37b0be78c",
   "metadata": {},
   "outputs": [
    {
     "data": {
      "text/plain": [
       "tensor([[1., 0., 0.],\n",
       "        [1., 0., 0.],\n",
       "        [1., 0., 0.],\n",
       "        [1., 0., 0.],\n",
       "        [1., 0., 0.]])"
      ]
     },
     "execution_count": 1445,
     "metadata": {},
     "output_type": "execute_result"
    }
   ],
   "source": [
    "m[0:5,:]"
   ]
  },
  {
   "cell_type": "code",
   "execution_count": 1350,
   "id": "f802077e-64e2-4e32-b9c7-ed14eb245613",
   "metadata": {},
   "outputs": [
    {
     "name": "stdout",
     "output_type": "stream",
     "text": [
      "tensor([[0, 1, 2, 3, 0, 1, 2, 3, 0, 1, 2, 3],\n",
      "        [0, 1, 2, 3, 0, 1, 2, 3, 0, 1, 2, 3],\n",
      "        [0, 1, 2, 3, 0, 1, 2, 3, 0, 1, 2, 3],\n",
      "        [0, 1, 2, 3, 0, 1, 2, 3, 0, 1, 2, 3],\n",
      "        [0, 1, 2, 3, 0, 1, 2, 3, 0, 1, 2, 3],\n",
      "        [0, 1, 2, 3, 0, 1, 2, 3, 0, 1, 2, 3],\n",
      "        [0, 1, 2, 3, 0, 1, 2, 3, 0, 1, 2, 3],\n",
      "        [0, 1, 2, 3, 0, 1, 2, 3, 0, 1, 2, 3],\n",
      "        [0, 1, 2, 3, 0, 1, 2, 3, 0, 1, 2, 3],\n",
      "        [0, 1, 2, 3, 0, 1, 2, 3, 0, 1, 2, 3]])\n",
      "torch.Size([10, 12, 4])\n",
      "torch.Size([10, 12])\n"
     ]
    },
    {
     "data": {
      "text/plain": [
       "torch.Size([10, 4, 10])"
      ]
     },
     "execution_count": 1350,
     "metadata": {},
     "output_type": "execute_result"
    }
   ],
   "source": [
    "a = torch.zeros(10, 12)\n",
    "for i in range(10):\n",
    "    for j in range(12):\n",
    "        a[i,j] = j % 4\n",
    "        \n",
    "print(a.long())\n",
    "b = F.one_hot(a.long(), num_classes=4)\n",
    "print(b.shape)\n",
    "c = torch.rand(10,12)\n",
    "print(c.shape)\n",
    "torch.matmul(torch.transpose(b,2,1).float(),c.T).shape"
   ]
  },
  {
   "cell_type": "code",
   "execution_count": 1356,
   "id": "e9409939-990e-4a8f-8caf-bdf531b7d569",
   "metadata": {},
   "outputs": [
    {
     "data": {
      "text/plain": [
       "tensor([1.0481, 0.7089, 1.9728, 1.4895])"
      ]
     },
     "execution_count": 1356,
     "metadata": {},
     "output_type": "execute_result"
    }
   ],
   "source": [
    "torch.matmul(b[0,:,:].T.float(), c[0,:])"
   ]
  },
  {
   "cell_type": "code",
   "execution_count": 1414,
   "id": "21816bfb-5261-44cc-9476-42b4b149a3c0",
   "metadata": {},
   "outputs": [
    {
     "data": {
      "text/plain": [
       "tensor([[1., 0., 0.],\n",
       "        [0., 1., 0.],\n",
       "        [0., 0., 1.]])"
      ]
     },
     "execution_count": 1414,
     "metadata": {},
     "output_type": "execute_result"
    }
   ],
   "source": [
    "torch.eye(3,3)"
   ]
  },
  {
   "cell_type": "code",
   "execution_count": 1423,
   "id": "a033372b-9d8e-4334-93e6-c2efc6b50ce1",
   "metadata": {},
   "outputs": [
    {
     "name": "stdout",
     "output_type": "stream",
     "text": [
      "tensor([[[ 0,  1,  2,  3],\n",
      "         [ 4,  5,  6,  7],\n",
      "         [ 8,  9, 10, 11]],\n",
      "\n",
      "        [[12, 13, 14, 15],\n",
      "         [16, 17, 18, 19],\n",
      "         [20, 21, 22, 23]]])\n",
      "tensor([[ 0,  1,  2,  3,  4,  5,  6,  7,  8,  9, 10, 11],\n",
      "        [12, 13, 14, 15, 16, 17, 18, 19, 20, 21, 22, 23]])\n",
      "tensor([[0, 1, 2],\n",
      "        [3, 4, 5]])\n"
     ]
    },
    {
     "data": {
      "text/plain": [
       "tensor([[ 0,  1,  2,  0,  1,  2,  3,  4,  5,  6,  7,  8,  9, 10, 11],\n",
       "        [ 3,  4,  5, 12, 13, 14, 15, 16, 17, 18, 19, 20, 21, 22, 23]])"
      ]
     },
     "execution_count": 1423,
     "metadata": {},
     "output_type": "execute_result"
    }
   ],
   "source": [
    "a=torch.arange(2*3*4).reshape(2,3,4)\n",
    "print(a)\n",
    "print(a.reshape(a.shape[0], -1))\n",
    "c=torch.arange(2*3).reshape(2,3)\n",
    "print(c)\n",
    "torch.cat((c, a.reshape(a.shape[0], -1)), 1)"
   ]
  },
  {
   "cell_type": "code",
   "execution_count": 1446,
   "id": "10a5f369-e35b-4181-ab57-1c8394b2a95b",
   "metadata": {},
   "outputs": [
    {
     "data": {
      "text/plain": [
       "(tensor([[1., 0., 0.],\n",
       "         [1., 0., 0.],\n",
       "         [1., 0., 0.],\n",
       "         [1., 0., 0.],\n",
       "         [1., 0., 0.]]),\n",
       " tensor([[[1, 0, 0, 0, 0, 0, 0, 0],\n",
       "          [0, 1, 0, 0, 0, 0, 0, 0],\n",
       "          [0, 0, 1, 0, 0, 0, 0, 0],\n",
       "          [0, 0, 0, 1, 0, 0, 0, 0],\n",
       "          [0, 0, 0, 0, 1, 0, 0, 0],\n",
       "          [0, 0, 0, 0, 0, 1, 0, 0],\n",
       "          [0, 0, 0, 0, 0, 0, 1, 0],\n",
       "          [0, 0, 0, 0, 0, 0, 0, 1],\n",
       "          [1, 0, 0, 0, 0, 0, 0, 0],\n",
       "          [0, 1, 0, 0, 0, 0, 0, 0],\n",
       "          [0, 0, 1, 0, 0, 0, 0, 0],\n",
       "          [0, 0, 0, 1, 0, 0, 0, 0]],\n",
       " \n",
       "         [[1, 0, 0, 0, 0, 0, 0, 0],\n",
       "          [0, 1, 0, 0, 0, 0, 0, 0],\n",
       "          [0, 0, 1, 0, 0, 0, 0, 0],\n",
       "          [0, 0, 0, 1, 0, 0, 0, 0],\n",
       "          [0, 0, 0, 0, 1, 0, 0, 0],\n",
       "          [0, 0, 0, 0, 0, 1, 0, 0],\n",
       "          [0, 0, 0, 0, 0, 0, 1, 0],\n",
       "          [0, 0, 0, 0, 0, 0, 0, 1],\n",
       "          [1, 0, 0, 0, 0, 0, 0, 0],\n",
       "          [0, 1, 0, 0, 0, 0, 0, 0],\n",
       "          [0, 0, 1, 0, 0, 0, 0, 0],\n",
       "          [0, 0, 0, 1, 0, 0, 0, 0]],\n",
       " \n",
       "         [[1, 0, 0, 0, 0, 0, 0, 0],\n",
       "          [0, 1, 0, 0, 0, 0, 0, 0],\n",
       "          [0, 0, 1, 0, 0, 0, 0, 0],\n",
       "          [0, 0, 0, 1, 0, 0, 0, 0],\n",
       "          [0, 0, 0, 0, 1, 0, 0, 0],\n",
       "          [0, 0, 0, 0, 0, 1, 0, 0],\n",
       "          [0, 0, 0, 0, 0, 0, 1, 0],\n",
       "          [0, 0, 0, 0, 0, 0, 0, 1],\n",
       "          [1, 0, 0, 0, 0, 0, 0, 0],\n",
       "          [0, 1, 0, 0, 0, 0, 0, 0],\n",
       "          [0, 0, 1, 0, 0, 0, 0, 0],\n",
       "          [0, 0, 0, 1, 0, 0, 0, 0]],\n",
       " \n",
       "         [[1, 0, 0, 0, 0, 0, 0, 0],\n",
       "          [0, 1, 0, 0, 0, 0, 0, 0],\n",
       "          [0, 0, 1, 0, 0, 0, 0, 0],\n",
       "          [0, 0, 0, 1, 0, 0, 0, 0],\n",
       "          [0, 0, 0, 0, 1, 0, 0, 0],\n",
       "          [0, 0, 0, 0, 0, 1, 0, 0],\n",
       "          [0, 0, 0, 0, 0, 0, 1, 0],\n",
       "          [0, 0, 0, 0, 0, 0, 0, 1],\n",
       "          [1, 0, 0, 0, 0, 0, 0, 0],\n",
       "          [0, 1, 0, 0, 0, 0, 0, 0],\n",
       "          [0, 0, 1, 0, 0, 0, 0, 0],\n",
       "          [0, 0, 0, 1, 0, 0, 0, 0]],\n",
       " \n",
       "         [[1, 0, 0, 0, 0, 0, 0, 0],\n",
       "          [0, 1, 0, 0, 0, 0, 0, 0],\n",
       "          [0, 0, 1, 0, 0, 0, 0, 0],\n",
       "          [0, 0, 0, 1, 0, 0, 0, 0],\n",
       "          [0, 0, 0, 0, 1, 0, 0, 0],\n",
       "          [0, 0, 0, 0, 0, 1, 0, 0],\n",
       "          [0, 0, 0, 0, 0, 0, 1, 0],\n",
       "          [0, 0, 0, 0, 0, 0, 0, 1],\n",
       "          [1, 0, 0, 0, 0, 0, 0, 0],\n",
       "          [0, 1, 0, 0, 0, 0, 0, 0],\n",
       "          [0, 0, 1, 0, 0, 0, 0, 0],\n",
       "          [0, 0, 0, 1, 0, 0, 0, 0]]]))"
      ]
     },
     "execution_count": 1446,
     "metadata": {},
     "output_type": "execute_result"
    }
   ],
   "source": [
    "m[0:5,:], r[0:5,:]"
   ]
  },
  {
   "cell_type": "code",
   "execution_count": null,
   "id": "4696643b-fe90-4cd2-b748-4e7e457d5f98",
   "metadata": {},
   "outputs": [],
   "source": []
  }
 ],
 "metadata": {
  "kernelspec": {
   "display_name": "Python 3 (ipykernel)",
   "language": "python",
   "name": "python3"
  },
  "language_info": {
   "codemirror_mode": {
    "name": "ipython",
    "version": 3
   },
   "file_extension": ".py",
   "mimetype": "text/x-python",
   "name": "python",
   "nbconvert_exporter": "python",
   "pygments_lexer": "ipython3",
   "version": "3.9.5"
  }
 },
 "nbformat": 4,
 "nbformat_minor": 5
}
